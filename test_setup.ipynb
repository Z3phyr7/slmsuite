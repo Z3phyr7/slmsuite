{
 "cells": [
  {
   "cell_type": "code",
   "execution_count": 1,
   "metadata": {},
   "outputs": [],
   "source": [
    "import numpy as np\n",
    "import matplotlib.pyplot as plt\n",
    "from scipy import optimize\n",
    "from scipy import special\n",
    "from slmsuite.hardware.cameras.alliedvision import AlliedVision"
   ]
  },
  {
   "cell_type": "code",
   "execution_count": 2,
   "metadata": {},
   "outputs": [],
   "source": [
    "def crop(image, ROI):\n",
    "    x, width, y, height = ROI\n",
    "    width = int(width/2)\n",
    "    height = int(height/2)\n",
    "    return image[y-height:y+height, x-width:x+width]"
   ]
  },
  {
   "cell_type": "code",
   "execution_count": 3,
   "metadata": {},
   "outputs": [
    {
     "name": "stdout",
     "output_type": "stream",
     "text": [
      "AlliedVision serials:\n",
      "\"0441G\"\n",
      "vimba initializing... success\n",
      "Looking for cameras... success\n",
      "vimba sn 0441G initializing... success\n"
     ]
    }
   ],
   "source": [
    "AlliedVision.info(verbose=True)\n",
    "cam = AlliedVision(serial=\"0441G\", verbose=True)"
   ]
  },
  {
   "cell_type": "markdown",
   "metadata": {},
   "source": [
    "## Set Camera Exposure and ROI"
   ]
  },
  {
   "cell_type": "code",
   "execution_count": 4,
   "metadata": {},
   "outputs": [
    {
     "name": "stdout",
     "output_type": "stream",
     "text": [
      "Image shape: (3036, 4024)\n",
      "Exposure time: 8000.0 us\n",
      "Beam coordinates: (1864, 3080)\n",
      "Max intensity: 3\n"
     ]
    },
    {
     "data": {
      "image/png": "[encoded data removed]",
      "text/plain": [
       "<Figure size 640x480 with 1 Axes>"
      ]
     },
     "metadata": {},
     "output_type": "display_data"
    }
   ],
   "source": [
    "t_exp_s = 8e-3\n",
    "cam.set_exposure(t_exp_s)\n",
    "\n",
    "ROI = [1035,100,1443,100]                                           #ROI = [x, width, y, height]\n",
    "\n",
    "im = cam.get_image()\n",
    "imc = crop(im, ROI)\n",
    "\n",
    "plt.imshow(im)\n",
    "\n",
    "print('Image shape:', cam.default_shape)\n",
    "print('Exposure time:', np.round(t_exp_s*1e6,0),'us')\n",
    "print('Beam coordinates:', np.unravel_index(np.argmax(im, axis=None), im.shape))\n",
    "print('Max intensity:', np.max(imc))"
   ]
  },
  {
   "cell_type": "markdown",
   "metadata": {},
   "source": [
    "## Z Scan"
   ]
  },
  {
   "cell_type": "code",
   "execution_count": null,
   "metadata": {},
   "outputs": [],
   "source": [
    "ROI = [1035,100,1443,100]            #ROI = [x, width, y, height]\n",
    "im = cam.get_image()\n",
    "imc = crop(im,ROI)\n",
    "\n",
    "fig, (ax1, ax2) = plt.subplots(nrows=1, ncols=2, figsize=(10,5))\n",
    "ax1.imshow(imc)\n",
    "ax2.plot(imc[50,:])\n",
    "ax2.grid()\n",
    "\n",
    "print(np.max(imc))\n",
    "\n",
    "#np.savetxt(fname='z_scan/-200', X=imc)"
   ]
  },
  {
   "cell_type": "code",
   "execution_count": null,
   "metadata": {},
   "outputs": [],
   "source": [
    "#import data\n",
    "angles = np.linspace(-200,200,21)\n",
    "ims = np.zeros((21, 100,100))\n",
    "\n",
    "for i, angle in enumerate(angles):\n",
    "    ims[i] = np.loadtxt('z_scan/'+str(int(angle)))\n",
    "\n",
    "cross_sections = np.zeros((21,100))\n",
    "\n",
    "for i in range(21):\n",
    "    cross_sections[i,:] = ims[i,50,:]\n",
    "\n",
    "z = angles/50*500                           #z displacement in um\n",
    "r = np.linspace(-50,50,100)*1.84            #radial distance\n",
    "\n",
    "Z, R = np.meshgrid(r,z)"
   ]
  },
  {
   "cell_type": "code",
   "execution_count": null,
   "metadata": {},
   "outputs": [],
   "source": [
    "plt.pcolormesh(Z, R, cross_sections**0.5)\n",
    "plt.xlabel('r [um]')\n",
    "plt.ylabel('z [um]')\n",
    "plt.xlim((-50,50))\n",
    "plt.title('Beam profile along optical axis')"
   ]
  },
  {
   "cell_type": "code",
   "execution_count": null,
   "metadata": {},
   "outputs": [],
   "source": [
    "plt.imshow(ims[-1])"
   ]
  },
  {
   "cell_type": "markdown",
   "metadata": {},
   "source": [
    "## Fitting the Waist"
   ]
  },
  {
   "cell_type": "code",
   "execution_count": null,
   "metadata": {},
   "outputs": [],
   "source": [
    "def Gaussian(x, x0, waist, I0):\n",
    "    return I0*np.exp(-2*(x-x0)**2/waist**2)"
   ]
  },
  {
   "cell_type": "code",
   "execution_count": null,
   "metadata": {},
   "outputs": [],
   "source": [
    "ns = np.arange(100)\n",
    "\n",
    "popt, _ = optimize.curve_fit(Gaussian, ns, ims[10,50,:], p0=[50,5,250])\n",
    "\n",
    "plt.plot(ims[10,50,:])\n",
    "plt.plot(Gaussian(ns,popt[0],popt[1],popt[2]))\n",
    "plt.grid()\n",
    "\n",
    "print('waist focus:', popt[1]*1.84, 'um')\n",
    "print('waist large beam:', 0.56*250/(np.pi*popt[1]*1.84), 'mm')"
   ]
  },
  {
   "cell_type": "markdown",
   "metadata": {},
   "source": [
    "## Knife Edge Waist Measurement"
   ]
  },
  {
   "cell_type": "code",
   "execution_count": null,
   "metadata": {},
   "outputs": [],
   "source": [
    "im = cam.get_image()\n",
    "imc = crop(im, [1811,3000,1980,2000])\n",
    "plt.imshow(imc)\n",
    "\n",
    "print(np.sum(imc))\n",
    "print(np.max(imc))\n",
    "\n",
    "print('Image shape:', cam.default_shape)\n",
    "print('Exposure time:', np.round(t_exp_s*1e6,0),'us')\n",
    "print('Beam coordinates:', np.unravel_index(np.argmax(im, axis=None), im.shape))"
   ]
  },
  {
   "cell_type": "code",
   "execution_count": null,
   "metadata": {},
   "outputs": [],
   "source": [
    "def error_func(x, x0, waist, a, offset):\n",
    "    return a*special.erf(np.sqrt(2)*(x-x0)/waist)+offset\n",
    "\n",
    "#Note: scipy erf = integral of e^(-t^2) dt\n",
    "#Power measured in knife edge measurement: P ~ integral e^(-2*x^2/w^2) dx\n",
    "#Thus, the substitution t = \\sqrt(2)*x/w"
   ]
  },
  {
   "cell_type": "code",
   "execution_count": null,
   "metadata": {},
   "outputs": [],
   "source": [
    "P = np.array([31,149,253, 396, 596, 809, 1087, 1425, 1763, 2051, 2586, 2986, 3412, 3817, 4375, 4784, 5162, 5651, 5928, 6212, 6618, 6768, 6801, 6992, 7151, 7349])           #25 cm away from telescope\n",
    "P2 = np.array([7249, 7080, 6944, 6826,6612,6363, 6093, 5860, 5666, 5252, 4764, 4452, 4006, 3667, 3141, 2683, 2257, 1875, 1530, 1218, 869, 658, 473, 283, 168, 67, 5, 1])    #2 cm away from telescope\n",
    "\n",
    "P = P/np.max(P)\n",
    "P2 = P2/np.max(P2)\n",
    "\n",
    "P2 = P2[::-1]\n",
    "x = np.arange(len(P))*0.5  #in mm\n",
    "x2 = np.arange(len(P2))*0.5  #in mm\n",
    "\n",
    "popt, pcov = optimize.curve_fit(error_func, x, P, [6, 5, 0.5, 0.5])\n",
    "popt2, pcov2 = optimize.curve_fit(error_func, x2, P2, [6, 5, 0.5, 0.5])\n",
    "\n",
    "plt.plot(x, P, 'o', label='25 cm')\n",
    "plt.plot(x2, P2, 'o', label='2 cm')\n",
    "plt.plot(x, error_func(x, popt[0], popt[1], popt[2], popt[3]), 'k-.')\n",
    "plt.plot(x2, error_func(x2, popt2[0], popt2[1], popt2[2], popt2[3]), 'k-.', label = 'fits')\n",
    "\n",
    "plt.grid()\n",
    "plt.xlabel('Knife Edge Position [mm]')\n",
    "plt.ylabel('Power [a.u.]')\n",
    "plt.title('Knife Edge Waist Measurement')\n",
    "plt.legend()\n",
    "\n",
    "print('Beam waists')\n",
    "print('z = 2 cm:', np.round(popt2[1],2),'mm')\n",
    "print('z = 25 cm:', np.round(popt[1],2),'mm')"
   ]
  },
  {
   "cell_type": "code",
   "execution_count": null,
   "metadata": {},
   "outputs": [],
   "source": [
    "np.pi*1.5**2/0.56"
   ]
  },
  {
   "cell_type": "markdown",
   "metadata": {},
   "source": [
    "Checking collimation"
   ]
  },
  {
   "cell_type": "code",
   "execution_count": null,
   "metadata": {},
   "outputs": [],
   "source": [
    "t_exp_s = 3e-3\n",
    "cam.set_exposure(t_exp_s)\n",
    "\n",
    "ROI = [1285,1200,1343,1200]            #ROI = [x, width, y, height]\n",
    "\n",
    "im = cam.get_image()\n",
    "imc = crop(im, ROI)\n",
    "\n",
    "plt.imshow(imc)\n",
    "print(np.max(imc))\n",
    "\n",
    "print(np.sum(imc))"
   ]
  },
  {
   "cell_type": "code",
   "execution_count": null,
   "metadata": {},
   "outputs": [],
   "source": [
    "t_exp_s = 15e-3\n",
    "cam.set_exposure(t_exp_s)\n",
    "\n",
    "im = cam.get_image()\n",
    "imc = crop(im, [1811,3000,1980,2000])\n",
    "plt.imshow(imc)\n",
    "\n",
    "print(np.sum(imc))\n",
    "print(np.max(imc))\n",
    "\n",
    "print('Image shape:', cam.default_shape)\n",
    "print('Exposure time:', np.round(t_exp_s*1e6,0),'us')\n",
    "print('Beam coordinates:', np.unravel_index(np.argmax(im, axis=None), im.shape))"
   ]
  },
  {
   "cell_type": "code",
   "execution_count": null,
   "metadata": {},
   "outputs": [],
   "source": [
    "P = np.array([66169096, 66406917, 65180050, 64076045, 59604016, 52951160, 43896165, 34765920])           #far away from telescope\n",
    "P2 = np.array([67203266, 68088715, 67707715, 65419171, 62571271, 57417829, 48493674, 39101560])    #near telescope\n",
    "\n",
    "P = P/np.max(P)\n",
    "P2 = P2/np.max(P2)\n",
    "\n",
    "\n",
    "x = np.arange(len(P))*2  #in mm\n",
    "x2 = np.arange(len(P2))*2  #in mm\n",
    "\n",
    "popt, pcov = optimize.curve_fit(f=error_func, xdata=x, ydata=P, p0=[6, 5, 0.5, 0.5])\n",
    "popt2, pcov2 = optimize.curve_fit(error_func, x2, P2, [6, 5, 0.5, 0.5])\n",
    "\n",
    "plt.plot(x, P, 'o', label='far')\n",
    "plt.plot(x2, P2, 'o', label='near')\n",
    "plt.plot(x, error_func(x, popt[0], popt[1], popt[2], popt[3]), 'k-.')\n",
    "plt.plot(x2, error_func(x2, popt2[0], popt2[1], popt2[2], popt2[3]), 'k-.', label = 'fits')\n",
    "\n",
    "plt.grid()\n",
    "plt.xlabel('Knife Edge Position [mm]')\n",
    "plt.ylabel('Power [a.u.]')\n",
    "plt.title('Knife Edge Waist Measurement')\n",
    "plt.legend()\n",
    "\n",
    "print('Beam waists')\n",
    "print('z = near cm:', np.round(popt2[1],2),'mm')\n",
    "print('z = far cm:', np.round(popt[1],2),'mm')\n",
    "print(np.sqrt(np.diag(pcov))[1])\n",
    "print(np.sqrt(np.diag(pcov2))[1])"
   ]
  },
  {
   "cell_type": "code",
   "execution_count": null,
   "metadata": {},
   "outputs": [],
   "source": [
    "t_exp_s = 15e-3\n",
    "cam.set_exposure(t_exp_s)\n",
    "\n",
    "im = cam.get_image()\n",
    "imc = crop(im, [1811,3000,1980,2000])\n",
    "plt.imshow(imc)\n",
    "\n",
    "print(np.sum(imc))\n",
    "print(np.max(imc))\n",
    "\n",
    "print('Image shape:', cam.default_shape)\n",
    "print('Exposure time:', np.round(t_exp_s*1e6,0),'us')\n",
    "print('Beam coordinates:', np.unravel_index(np.argmax(im, axis=None), im.shape))"
   ]
  },
  {
   "cell_type": "code",
   "execution_count": null,
   "metadata": {},
   "outputs": [],
   "source": [
    "P = np.array([1, 2, 3, 4])           #far away from telescope\n",
    "P2 = np.array([69059206, 68547404, 68440602, 65977743, 63551323, 57604641, 48486861, 38383421])    #near telescope\n",
    "\n",
    "P = P/np.max(P)\n",
    "P2 = P2/np.max(P2)\n",
    "\n",
    "\n",
    "x = np.arange(len(P))*2  #in mm\n",
    "x2 = np.arange(len(P2))*2  #in mm\n",
    "\n",
    "popt, pcov = optimize.curve_fit(f=error_func, xdata=x, ydata=P, p0=[6, 5, 0.5, 0.5])\n",
    "popt2, pcov2 = optimize.curve_fit(error_func, x2, P2, [6, 5, 0.5, 0.5])\n",
    "\n",
    "plt.plot(x, P, 'o', label='far')\n",
    "plt.plot(x2, P2, 'o', label='near')\n",
    "plt.plot(x, error_func(x, popt[0], popt[1], popt[2], popt[3]), 'k-.')\n",
    "plt.plot(x2, error_func(x2, popt2[0], popt2[1], popt2[2], popt2[3]), 'k-.', label = 'fits')\n",
    "\n",
    "plt.grid()\n",
    "plt.xlabel('Knife Edge Position [mm]')\n",
    "plt.ylabel('Power [a.u.]')\n",
    "plt.title('Knife Edge Waist Measurement')\n",
    "plt.legend()\n",
    "\n",
    "print('Beam waists')\n",
    "print('z = near cm:', np.round(popt2[1],2),'mm')\n",
    "print('z = far cm:', np.round(popt[1],2),'mm')\n",
    "print(np.sqrt(np.diag(pcov))[1])\n",
    "print(np.sqrt(np.diag(pcov2))[1])"
   ]
  },
  {
   "cell_type": "markdown",
   "metadata": {},
   "source": [
    "Collimated beam imaging"
   ]
  },
  {
   "cell_type": "code",
   "execution_count": null,
   "metadata": {},
   "outputs": [],
   "source": [
    "t_exp_s = 13e-3\n",
    "cam.set_exposure(t_exp_s)\n",
    "\n",
    "im = cam.get_image()\n",
    "imc = crop(im, [2300, 50,1277,50])\n",
    "plt.imshow(imc)\n",
    "\n",
    "print(np.sum(imc))\n",
    "print(np.max(imc))\n",
    "\n",
    "print('Image shape:', cam.default_shape)\n",
    "print('Exposure time:', np.round(t_exp_s*1e6,0),'us')\n",
    "print('Beam coordinates:', np.unravel_index(np.argmax(im, axis=None), im.shape))\n",
    "\n",
    "np.savetxt(fname='coll', X=imc)"
   ]
  },
  {
   "cell_type": "code",
   "execution_count": null,
   "metadata": {},
   "outputs": [],
   "source": [
    "ims1 = np.loadtxt('coll')\n",
    "\n",
    "print(ims1[25])"
   ]
  },
  {
   "cell_type": "code",
   "execution_count": null,
   "metadata": {},
   "outputs": [],
   "source": [
    "def Gaussian(x, x0, waist, I0):\n",
    "    return I0*np.exp(-2*(x-x0)**2/waist**2)"
   ]
  },
  {
   "cell_type": "code",
   "execution_count": null,
   "metadata": {},
   "outputs": [],
   "source": []
  },
  {
   "cell_type": "code",
   "execution_count": null,
   "metadata": {},
   "outputs": [],
   "source": [
    "ns = np.arange(50)\n",
    "\n",
    "popt, _ = optimize.curve_fit(Gaussian, ns, ims1[25], p0=[50,5,250])\n",
    "\n",
    "plt.plot(ims1[25])\n",
    "plt.plot(Gaussian(ns,popt[0],popt[1],popt[2]))\n",
    "plt.grid()\n",
    "\n",
    "print('waist focus:', popt[1]*1.84, 'um')\n",
    "print('waist large beam:', 0.56*250/(np.pi*popt[1]*1.84), 'mm')"
   ]
  },
  {
   "cell_type": "code",
   "execution_count": null,
   "metadata": {},
   "outputs": [],
   "source": [
    "t_exp_s = 13e-3\n",
    "cam.set_exposure(t_exp_s)\n",
    "\n",
    "im = cam.get_image()\n",
    "imc = crop(im, [2300,101,1277,101])\n",
    "plt.imshow(imc)\n",
    "\n",
    "print(np.sum(imc))\n",
    "print(np.max(imc))\n",
    "\n",
    "print('Image shape:', cam.default_shape)\n",
    "print('Exposure time:', np.round(t_exp_s*1e6,0),'us')\n",
    "print('Beam coordinates:', np.unravel_index(np.argmax(im, axis=None), im.shape))\n",
    "\n",
    "np.savetxt(fname='coll2', X=imc)"
   ]
  },
  {
   "cell_type": "code",
   "execution_count": null,
   "metadata": {},
   "outputs": [],
   "source": [
    "ims = np.loadtxt('coll2')\n",
    "\n",
    "print(ims[50])"
   ]
  },
  {
   "cell_type": "code",
   "execution_count": null,
   "metadata": {},
   "outputs": [],
   "source": [
    "def Gaussian(x, x0, waist, I0):\n",
    "    return I0*np.exp(-2*(x-x0)**2/waist**2)"
   ]
  },
  {
   "cell_type": "code",
   "execution_count": null,
   "metadata": {},
   "outputs": [],
   "source": [
    "ns = np.arange(100)\n",
    "\n",
    "popt, _ = optimize.curve_fit(Gaussian, ns, ims[50], p0=[50,7,250])\n",
    "\n",
    "plt.plot(ims[50])\n",
    "plt.plot(Gaussian(ns,popt[0],popt[1],popt[2]))\n",
    "plt.grid()\n",
    "\n",
    "print('waist focus:', popt[1]*1.84, 'um')\n",
    "print('waist large beam:', 0.56*250/(np.pi*popt[1]*1.84), 'mm')\n",
    "print(popt)"
   ]
  },
  {
   "cell_type": "code",
   "execution_count": null,
   "metadata": {},
   "outputs": [],
   "source": [
    "plt.plot(ims[50])"
   ]
  },
  {
   "cell_type": "code",
   "execution_count": null,
   "metadata": {},
   "outputs": [],
   "source": [
    "t_exp_s = 1.2e-3\n",
    "cam.set_exposure(t_exp_s)\n",
    "\n",
    "im = cam.get_image()\n",
    "imc = crop(im, [2080,20,1842,20])\n",
    "plt.imshow(imc)\n",
    "\n",
    "print(np.sum(imc))\n",
    "print(np.max(imc))\n",
    "\n",
    "print('Image shape:', cam.default_shape)\n",
    "print('Exposure time:', np.round(t_exp_s*1e6,0),'us')\n",
    "print('Beam coordinates:', np.unravel_index(np.argmax(im, axis=None), im.shape))"
   ]
  },
  {
   "cell_type": "code",
   "execution_count": null,
   "metadata": {},
   "outputs": [],
   "source": [
    "np.savetxt(fname='holey 2', X=imc)"
   ]
  },
  {
   "cell_type": "code",
   "execution_count": null,
   "metadata": {},
   "outputs": [],
   "source": [
    "def Gaussian(x, x0, waist, I0):\n",
    "    return I0*np.exp(-2*(x-x0)**2/waist**2)"
   ]
  },
  {
   "cell_type": "code",
   "execution_count": null,
   "metadata": {},
   "outputs": [],
   "source": [
    "ns = np.arange(20)\n",
    "\n",
    "popt, _ = optimize.curve_fit(Gaussian, ns, imc[11], p0=[10,1,208])\n",
    "x0=11\n",
    "waist=1.2\n",
    "I0=211\n",
    "plt.plot(imc[11], label=\"raw data\")\n",
    "plt.plot(Gaussian(ns,popt[0],popt[1],popt[2]), label=\"curve fit\")\n",
    "plt.legend()\n",
    "plt.grid()\n",
    "\n",
    "print('waist focus:', popt[1], 'pixels')\n",
    "print('waist' ,popt[1]*1.84, 'um')"
   ]
  },
  {
   "cell_type": "code",
   "execution_count": null,
   "metadata": {},
   "outputs": [],
   "source": [
    "\n",
    "plt.plot(imc[11], label=\"raw data\")\n",
    "\n",
    "plt.plot(ns, I0*np.exp(-2*(ns-x0)**2/waist**2), label=\"my fit\")"
   ]
  },
  {
   "cell_type": "code",
   "execution_count": null,
   "metadata": {},
   "outputs": [],
   "source": []
  }
 ],
 "metadata": {
  "kernelspec": {
   "display_name": "Python 3",
   "language": "python",
   "name": "python3"
  },
  "language_info": {
   "codemirror_mode": {
    "name": "ipython",
    "version": 3
   },
   "file_extension": ".py",
   "mimetype": "text/x-python",
   "name": "python",
   "nbconvert_exporter": "python",
   "pygments_lexer": "ipython3",
   "version": "3.11.9"
  },
  "orig_nbformat": 4
 },
 "nbformat": 4,
 "nbformat_minor": 2
}
